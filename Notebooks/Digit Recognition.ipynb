{
  "cells": [
    {
      "cell_type": "code",
      "execution_count": 112,
      "metadata": {
        "id": "5P7sMQvWnZta"
      },
      "outputs": [],
      "source": [
        "import numpy\n",
        "import tensorflow\n",
        "from tensorflow.keras.datasets import mnist\n",
        "from tensorflow.keras.models import Sequential\n",
        "from tensorflow.keras import layers\n",
        "from tensorflow.keras.layers import Dense, Flatten\n",
        "from tensorflow.keras.layers import Conv2D\n",
        "from tensorflow.keras.optimizers import Adam\n",
        "from keras.utils import np_utils"
      ]
    },
    {
      "cell_type": "code",
      "execution_count": 113,
      "metadata": {
        "id": "ureCV4ALn9ws"
      },
      "outputs": [],
      "source": [
        "(X_train, Y_train), (X_test, Y_test) = mnist.load_data()"
      ]
    },
    {
      "cell_type": "code",
      "execution_count": 114,
      "metadata": {
        "colab": {
          "base_uri": "https://localhost:8080/"
        },
        "id": "Hk9oSgrCoNa4",
        "outputId": "11489e7b-ebe4-4d82-9888-8bd88f7fd36c"
      },
      "outputs": [
        {
          "name": "stdout",
          "output_type": "stream",
          "text": [
            "(60000, 28, 28)\n",
            "(10000, 28, 28)\n"
          ]
        }
      ],
      "source": [
        "print(X_train.shape)\n",
        "print(X_test.shape)"
      ]
    },
    {
      "cell_type": "code",
      "execution_count": 115,
      "metadata": {
        "colab": {
          "base_uri": "https://localhost:8080/",
          "height": 282
        },
        "id": "B4w4zwLKoduq",
        "outputId": "1b163f8f-5892-4937-96ff-709ccd6143e8"
      },
      "outputs": [
        {
          "data": {
            "text/plain": [
              "<matplotlib.image.AxesImage at 0x7efc83e51e90>"
            ]
          },
          "execution_count": 115,
          "metadata": {},
          "output_type": "execute_result"
        },
        {
          "data": {
            "image/png": "[encoded data removed]",
            "text/plain": [
              "<Figure size 432x288 with 1 Axes>"
            ]
          },
          "metadata": {
            "needs_background": "light"
          },
          "output_type": "display_data"
        }
      ],
      "source": [
        "import matplotlib.pyplot as plt\n",
        "plt.imshow(X_train[0])"
      ]
    },
    {
      "cell_type": "code",
      "execution_count": 116,
      "metadata": {
        "id": "YKfSWCywo5em"
      },
      "outputs": [],
      "source": [
        "X_train = X_train.reshape(60000, 28, 28, 1).astype('float32')\n",
        "X_test = X_test.reshape(10000, 28, 28, 1).astype('float32')"
      ]
    },
    {
      "cell_type": "code",
      "execution_count": 117,
      "metadata": {
        "id": "5k_KABmzpqGL"
      },
      "outputs": [],
      "source": [
        "number_of_classes = 10\n",
        "Y_train = np_utils.to_categorical(Y_train, number_of_classes)\n",
        "Y_test = np_utils.to_categorical(Y_test, number_of_classes)\n"
      ]
    },
    {
      "cell_type": "code",
      "execution_count": 118,
      "metadata": {
        "colab": {
          "base_uri": "https://localhost:8080/"
        },
        "id": "hwyhcBkAqDUo",
        "outputId": "b67b4cfc-399c-45f1-9def-8d9bff033576"
      },
      "outputs": [
        {
          "data": {
            "text/plain": [
              "array([0., 0., 0., 0., 0., 1., 0., 0., 0., 0.], dtype=float32)"
            ]
          },
          "execution_count": 118,
          "metadata": {},
          "output_type": "execute_result"
        }
      ],
      "source": [
        "Y_train[0]"
      ]
    },
    {
      "cell_type": "code",
      "execution_count": 119,
      "metadata": {
        "id": "vDh6AdPSqQWB"
      },
      "outputs": [],
      "source": [
        "model = Sequential()\n",
        "model.add(Conv2D(64, (3, 3), input_shape=(28, 28, 1), activation=\"relu\"))\n",
        "model.add(Conv2D(32, (3, 3), activation=\"relu\"))\n",
        "model.add(Flatten())\n",
        "model.add(Dense(number_of_classes, activation=\"softmax\"))"
      ]
    },
    {
      "cell_type": "code",
      "execution_count": 120,
      "metadata": {
        "id": "-qbxjJ1sq9CT"
      },
      "outputs": [],
      "source": [
        "model.compile(loss='categorical_crossentropy', optimizer=\"Adam\", metrics=[\"accuracy\"])"
      ]
    },
    {
      "cell_type": "code",
      "execution_count": 121,
      "metadata": {
        "colab": {
          "base_uri": "https://localhost:8080/"
        },
        "id": "phOtiJqCdrjs",
        "outputId": "ee78c369-09a3-4868-8750-706bbeb7cf45"
      },
      "outputs": [
        {
          "name": "stdout",
          "output_type": "stream",
          "text": [
            "Epoch 1/5\n",
            "1875/1875 [==============================] - 184s 98ms/step - loss: 0.2405 - accuracy: 0.9498 - val_loss: 0.0873 - val_accuracy: 0.9731\n",
            "Epoch 2/5\n",
            "1875/1875 [==============================] - 182s 97ms/step - loss: 0.0699 - accuracy: 0.9782 - val_loss: 0.0936 - val_accuracy: 0.9700\n",
            "Epoch 3/5\n",
            "1875/1875 [==============================] - 183s 98ms/step - loss: 0.0493 - accuracy: 0.9847 - val_loss: 0.0778 - val_accuracy: 0.9767\n",
            "Epoch 4/5\n",
            "1875/1875 [==============================] - 183s 97ms/step - loss: 0.0365 - accuracy: 0.9882 - val_loss: 0.0887 - val_accuracy: 0.9750\n",
            "Epoch 5/5\n",
            "1875/1875 [==============================] - 181s 96ms/step - loss: 0.0259 - accuracy: 0.9914 - val_loss: 0.1013 - val_accuracy: 0.9762\n"
          ]
        },
        {
          "data": {
            "text/plain": [
              "<keras.callbacks.History at 0x7efc7f9e5810>"
            ]
          },
          "execution_count": 121,
          "metadata": {},
          "output_type": "execute_result"
        }
      ],
      "source": [
        "model.fit(X_train, Y_train, batch_size=32, epochs=5, validation_data=(X_test,Y_test))"
      ]
    },
    {
      "cell_type": "code",
      "execution_count": 123,
      "metadata": {
        "colab": {
          "base_uri": "https://localhost:8080/"
        },
        "id": "of3ChV1Qr0av",
        "outputId": "103587f4-bfde-4a0e-d5e6-65c426debad1"
      },
      "outputs": [
        {
          "name": "stdout",
          "output_type": "stream",
          "text": [
            "Metrics (Test Loss & Test Accuracy): \n",
            "[0.10125470906496048, 0.9761999845504761]\n"
          ]
        }
      ],
      "source": [
        "metrics = model.evaluate(X_test, Y_test, verbose=0)\n",
        "print(\"Metrics (Test Loss & Test Accuracy): \")\n",
        "print(metrics)"
      ]
    },
    {
      "cell_type": "code",
      "execution_count": 124,
      "metadata": {
        "id": "XrI9_211sGAU"
      },
      "outputs": [],
      "source": [
        "prediction = model.predict(X_test[:4])"
      ]
    },
    {
      "cell_type": "code",
      "execution_count": 125,
      "metadata": {
        "colab": {
          "base_uri": "https://localhost:8080/"
        },
        "id": "4-cEFwelseHe",
        "outputId": "69e49c34-00c4-4b87-97ad-6d79d2f5f651"
      },
      "outputs": [
        {
          "name": "stdout",
          "output_type": "stream",
          "text": [
            "[7 2 1 0]\n",
            "[[0. 0. 0. 0. 0. 0. 0. 1. 0. 0.]\n",
            " [0. 0. 1. 0. 0. 0. 0. 0. 0. 0.]\n",
            " [0. 1. 0. 0. 0. 0. 0. 0. 0. 0.]\n",
            " [1. 0. 0. 0. 0. 0. 0. 0. 0. 0.]]\n"
          ]
        }
      ],
      "source": [
        "print(numpy.argmax(prediction, axis=1))\n",
        "print(Y_test[:4])"
      ]
    },
    {
      "cell_type": "code",
      "execution_count": 126,
      "metadata": {
        "id": "OIZvVxG4s5Bm"
      },
      "outputs": [],
      "source": [
        "model.save(\"mnistCNN.h5\")"
      ]
    },
    {
      "cell_type": "code",
      "execution_count": 138,
      "metadata": {
        "id": "YQ0Wwj_JtFZp"
      },
      "outputs": [],
      "source": [
        "from tensorflow.keras.models import load_model\n",
        "import matplotlib.pyplot as plt\n",
        "from PIL import Image, ImageOps\n",
        "import numpy as np\n",
        "import pandas as pd"
      ]
    },
    {
      "cell_type": "code",
      "execution_count": 139,
      "metadata": {
        "id": "ZzRxzb9T7i9d"
      },
      "outputs": [],
      "source": [
        "model=load_model(\"mnistCNN.h5\")"
      ]
    },
    {
      "cell_type": "code",
      "execution_count": 140,
      "metadata": {
        "colab": {
          "base_uri": "https://localhost:8080/"
        },
        "id": "i6G9B5Au7mKt",
        "outputId": "8eb07c41-023d-4714-f1bf-7d2f57d935c4"
      },
      "outputs": [
        {
          "name": "stdout",
          "output_type": "stream",
          "text": [
            "0 0    0\n",
            "Name: Label, dtype: int64\n",
            "1 0    1\n",
            "Name: Label, dtype: int64\n",
            "2 0    2\n",
            "Name: Label, dtype: int64\n",
            "3 0    3\n",
            "Name: Label, dtype: int64\n",
            "4 0    4\n",
            "Name: Label, dtype: int64\n",
            "5 0    5\n",
            "Name: Label, dtype: int64\n",
            "6 0    6\n",
            "Name: Label, dtype: int64\n",
            "7 0    7\n",
            "Name: Label, dtype: int64\n",
            "8 0    8\n",
            "Name: Label, dtype: int64\n",
            "9 0    9\n",
            "Name: Label, dtype: int64\n"
          ]
        }
      ],
      "source": [
        "for i in range(10):\n",
        "    img = Image.open(f\"./Data/{i}.png\").convert(\"L\")\n",
        "    img = ImageOps.invert(img)\n",
        "    img = img.resize((28, 28))\n",
        "    img2arr = np.array(img)\n",
        "    img2arr = img2arr / 255.0\n",
        "    img2arr = img2arr.reshape(1, 28, 28, 1)\n",
        "    results  = model.predict(img2arr)\n",
        "    results = np.argmax(results,axis = 1)\n",
        "    results = pd.Series(results,name=\"Label\")\n",
        "    print(i, results)"
      ]
    }
  ],
  "metadata": {
    "colab": {
      "collapsed_sections": [],
      "name": "Handwriting.ipynb",
      "provenance": []
    },
    "kernelspec": {
      "display_name": "Python 3.10.4 ('venv': venv)",
      "language": "python",
      "name": "python3"
    },
    "language_info": {
      "name": "python",
      "version": "3.10.4"
    },
    "vscode": {
      "interpreter": {
        "hash": "f2c2f45ce4fc851d9b76bd98d928e8f9187f98673598635f549bab192748eebc"
      }
    }
  },
  "nbformat": 4,
  "nbformat_minor": 0
}
